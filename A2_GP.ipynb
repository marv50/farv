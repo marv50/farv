{
 "cells": [
  {
   "cell_type": "markdown",
   "metadata": {},
   "source": [
    "Below is the recreation of a simple GSP, following lecture slides. First the neccesary variables are initiated. The possible random values are first limited to 0, 1 and will be adjusted later."
   ]
  },
  {
   "cell_type": "code",
   "execution_count": 108,
   "metadata": {},
   "outputs": [],
   "source": [
    "import numpy as np\n",
    "from fractions import Fraction\n",
    "\n",
    "# Labels and couples all possible events and rates and stores in an array\n",
    "E_1 = 100 # number of people in area 1\n",
    "E_2 = 20 # number of people in area 2\n",
    "\n",
    "k_1 = 0.1 # Rate of people moving from area 1 to 2\n",
    "k_2 = 0.05 # Rate of people moving from area 2 to 1\n",
    "\n",
    "# Creates lists to store time steps\n",
    "events_1 = []\n",
    "events_2 = []\n",
    "\n",
    "mu = [0,1] # list of random values\n",
    "\n",
    "simulation_time = 100.0 # Timespan during which the simulation occurs\n",
    "t = 0 # Sets and initiates current time variable at 0"
   ]
  },
  {
   "cell_type": "markdown",
   "metadata": {},
   "source": [
    "Now, we write a function to determine the time until a given event occurs."
   ]
  },
  {
   "cell_type": "code",
   "execution_count": 109,
   "metadata": {},
   "outputs": [
    {
     "data": {
      "text/plain": [
       "0.24421673794493964"
      ]
     },
     "execution_count": 109,
     "metadata": {},
     "output_type": "execute_result"
    }
   ],
   "source": [
    "def gsp_occurrence(m, k_m):\n",
    "    \"\"\" This function first calculates rate of occurence of given event and calculates the timestep \n",
    "        of the occurence by generating exponentially from a uniform random number according to \n",
    "        an exponential distribution with mean 1/R_m \"\"\"\n",
    "\n",
    "    # Timestep of occurence\n",
    "    dt = np.random.exponential(1/k_m) \n",
    "    return dt\n",
    "\n",
    "# Passes current event state and event rate constant to function\n",
    "dt = gsp_occurrence(E_1, k_1)\n",
    "dt"
   ]
  },
  {
   "cell_type": "markdown",
   "metadata": {},
   "source": [
    "We now want to adjust the state of the passed event after it occurs. We also want to save the timestep at which the occurence takes place."
   ]
  },
  {
   "cell_type": "code",
   "execution_count": 111,
   "metadata": {},
   "outputs": [
    {
     "data": {
      "text/plain": [
       "[0.24421673794493964, 0.4884334758898793]"
      ]
     },
     "execution_count": 111,
     "metadata": {},
     "output_type": "execute_result"
    }
   ],
   "source": [
    "# Updates current time\n",
    "t += dt\n",
    "\n",
    "# Appends the timestep to the list\n",
    "events_1.append(t)\n",
    "\n",
    "def gsp_update(m):\n",
    "    m -= 1\n",
    "    return m\n",
    "\n",
    "E_1 = gsp_update(E_1)"
   ]
  }
 ],
 "metadata": {
  "kernelspec": {
   "display_name": "Python 3",
   "language": "python",
   "name": "python3"
  },
  "language_info": {
   "codemirror_mode": {
    "name": "ipython",
    "version": 3
   },
   "file_extension": ".py",
   "mimetype": "text/x-python",
   "name": "python",
   "nbconvert_exporter": "python",
   "pygments_lexer": "ipython3",
   "version": "3.12.4"
  }
 },
 "nbformat": 4,
 "nbformat_minor": 2
}
