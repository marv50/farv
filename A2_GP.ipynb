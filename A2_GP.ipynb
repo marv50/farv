{
 "cells": [
  {
   "cell_type": "markdown",
   "metadata": {},
   "source": [
    "Below is the recreation of a GSP First Reaction Method, following lecture slides. First the neccesary variables are initiated. The possible random values are first limited to 0, 1 and will be adjusted later."
   ]
  },
  {
   "cell_type": "code",
   "execution_count": 131,
   "metadata": {},
   "outputs": [],
   "source": [
    "import numpy as np\n",
    "from fractions import Fraction\n",
    "\n",
    "# Labels and couples all possible events and rates and stores in an array\n",
    "E_1 = 100 # number of people in area 1\n",
    "E_2 = 20 # number of people in area 2\n",
    "\n",
    "k_1 = 0.1 # Rate of people moving from area 1 to 2\n",
    "k_2 = 0.1 # Rate of people moving from area 2 to 1\n",
    "\n",
    "# Creates lists to store time steps\n",
    "events_1 = []\n",
    "events_2 = []\n",
    "\n",
    "mu = [0,1] # list of random values\n",
    "\n",
    "simulation_time = 100.0 # Timespan during which the simulation occurs\n",
    "t = 0 # Sets and initiates current time variable at 0\n",
    "\n",
    "# Creates an empty dictionary for event timesteps\n",
    "event_dy = {}"
   ]
  },
  {
   "cell_type": "markdown",
   "metadata": {},
   "source": [
    "Now, we write a function to determine the time until a given event occurs."
   ]
  },
  {
   "cell_type": "code",
   "execution_count": 142,
   "metadata": {},
   "outputs": [],
   "source": [
    "def gsp_occurrence(k_m, k_n):\n",
    "    \"\"\" This function first calculates rate of occurence of given event and calculates the timestep \n",
    "        of the occurence by generating exponentially from a uniform random number according to \n",
    "        an exponential distribution with mean 1/R_m \"\"\"\n",
    "\n",
    "    # Timestep of occurence\n",
    "    dt_m = np.random.exponential(1/k_m) \n",
    "    dt_n = np.random.exponential(1/k_n)\n",
    "    return dt_m, dt_n\n",
    "\n",
    "# Passes current event state and event rate constant to function\n",
    "dt_1, dt_2 = gsp_occurrence(k_1, k_2)\n",
    "\n",
    "# Stores the timesteps into the dictionary and sorts in order from occurence\n",
    "event_dy[\"E_1\"] = dt_1\n",
    "event_dy[\"E_2\"] = dt_2\n",
    "sort_event_dy = dict(sorted(event_dy.items(), key = lambda item: item [1]))\n",
    "\n",
    "# Checks which event occurs first\n",
    "first_event_key, first_event_value = list(sort_event_dy.items())[0]\n"
   ]
  },
  {
   "cell_type": "markdown",
   "metadata": {},
   "source": [
    "We now want to adjust the state of the passed event after it occurs and take into account the state of the other event. We also want to save the timestep at which the occurence takes place and update the current time. Only the first event takes place. "
   ]
  },
  {
   "cell_type": "code",
   "execution_count": 143,
   "metadata": {},
   "outputs": [
    {
     "data": {
      "text/plain": [
       "(104, 16)"
      ]
     },
     "execution_count": 143,
     "metadata": {},
     "output_type": "execute_result"
    }
   ],
   "source": [
    "# Updates current time\n",
    "#t += dt\n",
    "\n",
    "# Appends the timestep to the list\n",
    "#events_1.append(t)\n",
    "\n",
    "E_1, E_2\n",
    "\n",
    "def gsp_update(m, n):\n",
    "    \"\"\" This function updates the given event by removing 1 from pool m and adding 1 to pool n. \"\"\"\n",
    "    m -= 1\n",
    "    n += 1\n",
    "    return m, n\n",
    "\n",
    "#E_1, E_2 = gsp_update(E_1, E_2)\n",
    "\n",
    "# Checks which event occurs and calls on appropriate function\n",
    "if first_event_key == \"E_1\": # people move from 1 to 2\n",
    "    E_1, E_2 = gsp_update(E_1, E_2)\n",
    "    t += dt_1\n",
    "\n",
    "elif first_event_key == \"E_2\": # People move from 2 to 1\n",
    "    E_2, E_1 = gsp_update(E_2, E_1)\n",
    "    t += dt_2\n",
    "\n",
    "# reset the dictionary\n",
    "event_dy = {}\n",
    "E_1, E_2"
   ]
  }
 ],
 "metadata": {
  "kernelspec": {
   "display_name": "Python 3",
   "language": "python",
   "name": "python3"
  },
  "language_info": {
   "codemirror_mode": {
    "name": "ipython",
    "version": 3
   },
   "file_extension": ".py",
   "mimetype": "text/x-python",
   "name": "python",
   "nbconvert_exporter": "python",
   "pygments_lexer": "ipython3",
   "version": "3.12.4"
  }
 },
 "nbformat": 4,
 "nbformat_minor": 2
}
