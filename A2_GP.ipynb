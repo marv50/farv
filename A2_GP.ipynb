{
 "cells": [
  {
   "cell_type": "markdown",
   "metadata": {},
   "source": [
    "Below is the recreation of a simple GSP, following lecture slides. First the neccesary variables are initiated. The possible random values are first limited to 0, 1 and will be adjusted later."
   ]
  },
  {
   "cell_type": "code",
   "execution_count": null,
   "metadata": {},
   "outputs": [],
   "source": [
    "import numpy as np\n",
    "\n",
    "# Labels and couples all possible events and rates and stores in an array\n",
    "E_1 = 100 # number people in area 1\n",
    "E_2 = 20 # number of people in area 2\n",
    "\n",
    "R_1 = 0.1 # Rate of people moving from area 1 to 2\n",
    "R_2 = 0.05 # Rate of people moving from area 2 to 1\n",
    "\n",
    "events = ([E_1, R_1], [E_2, R_2])\n",
    "\n",
    "mu = [0,1] # list of random values\n",
    "\n",
    "simulation_time = 10.0 # Timespan during which the simulation occurs"
   ]
  },
  {
   "cell_type": "markdown",
   "metadata": {},
   "source": [
    "A function to determine the time until events occur is written."
   ]
  },
  {
   "cell_type": "code",
   "execution_count": null,
   "metadata": {},
   "outputs": [],
   "source": []
  }
 ],
 "metadata": {
  "language_info": {
   "name": "python"
  }
 },
 "nbformat": 4,
 "nbformat_minor": 2
}
