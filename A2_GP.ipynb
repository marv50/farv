{
 "cells": [
  {
   "cell_type": "markdown",
   "metadata": {},
   "source": [
    "Below is the recreation of a simple GSP, following lecture slides."
   ]
  },
  {
   "cell_type": "code",
   "execution_count": null,
   "metadata": {},
   "outputs": [],
   "source": [
    "# Labels and couples all possible events and rates and stores in an array\n",
    "E_1 = \"Event 1\"\n",
    "E_2 = \"Event 2\"\n",
    "E_3 = \"Event 3\"\n",
    "\n",
    "R_1 = 0.1 # Rate of event 1\n",
    "R_2 = 0.01 # Rate of event 2\n",
    "R_3 = 0.001 # Rate of event 3\n",
    "\n",
    "events = ([E_1, R_1], [E_2, R_2], [E_3, R_3])"
   ]
  }
 ],
 "metadata": {
  "language_info": {
   "name": "python"
  }
 },
 "nbformat": 4,
 "nbformat_minor": 2
}
