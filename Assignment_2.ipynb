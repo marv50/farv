{
 "cells": [
  {
   "cell_type": "code",
   "execution_count": 1,
   "id": "7642ea1f",
   "metadata": {},
   "outputs": [],
   "source": [
    "import numpy as np\n",
    "import matplotlib.pyplot as plt\n",
    "from fractions import Fraction"
   ]
  },
  {
   "cell_type": "markdown",
   "id": "02fad77b",
   "metadata": {},
   "source": [
    "\n",
    "\n"
   ]
  },
  {
   "cell_type": "code",
   "execution_count": 6,
   "id": "845d40f0",
   "metadata": {},
   "outputs": [
    {
     "ename": "TypeError",
     "evalue": "both arguments should be Rational instances",
     "output_type": "error",
     "traceback": [
      "\u001b[1;31m---------------------------------------------------------------------------\u001b[0m",
      "\u001b[1;31mTypeError\u001b[0m                                 Traceback (most recent call last)",
      "\u001b[1;32m~\\AppData\\Local\\Temp\\ipykernel_7360\\1347915822.py\u001b[0m in \u001b[0;36m<module>\u001b[1;34m\u001b[0m\n\u001b[0;32m     97\u001b[0m \u001b[1;33m\u001b[0m\u001b[0m\n\u001b[0;32m     98\u001b[0m \u001b[1;33m\u001b[0m\u001b[0m\n\u001b[1;32m---> 99\u001b[1;33m \u001b[0mgsp\u001b[0m\u001b[1;33m(\u001b[0m\u001b[0mN\u001b[0m\u001b[1;33m,\u001b[0m \u001b[0mX_0\u001b[0m\u001b[1;33m,\u001b[0m \u001b[0mY_0\u001b[0m\u001b[1;33m,\u001b[0m \u001b[0mZ_0\u001b[0m\u001b[1;33m,\u001b[0m \u001b[0mbeta\u001b[0m\u001b[1;33m,\u001b[0m \u001b[0mgamma\u001b[0m\u001b[1;33m,\u001b[0m \u001b[0mmu\u001b[0m\u001b[1;33m,\u001b[0m \u001b[0mtimespan\u001b[0m\u001b[1;33m)\u001b[0m\u001b[1;33m\u001b[0m\u001b[1;33m\u001b[0m\u001b[0m\n\u001b[0m\u001b[0;32m    100\u001b[0m \u001b[1;33m\u001b[0m\u001b[0m\n\u001b[0;32m    101\u001b[0m \u001b[1;33m\u001b[0m\u001b[0m\n",
      "\u001b[1;32m~\\AppData\\Local\\Temp\\ipykernel_7360\\1347915822.py\u001b[0m in \u001b[0;36mgsp\u001b[1;34m(N, X, Y, Z, beta, gamma, mu, end)\u001b[0m\n\u001b[0;32m     57\u001b[0m \u001b[1;33m\u001b[0m\u001b[0m\n\u001b[0;32m     58\u001b[0m \u001b[1;33m\u001b[0m\u001b[0m\n\u001b[1;32m---> 59\u001b[1;33m         \u001b[0mdt_infection\u001b[0m \u001b[1;33m=\u001b[0m \u001b[0mFraction\u001b[0m\u001b[1;33m(\u001b[0m\u001b[1;33m-\u001b[0m\u001b[1;36m1\u001b[0m\u001b[1;33m,\u001b[0m \u001b[0mbeta\u001b[0m\u001b[1;33m*\u001b[0m\u001b[0mX\u001b[0m\u001b[1;33m*\u001b[0m\u001b[0mY\u001b[0m\u001b[1;33m/\u001b[0m\u001b[0mN\u001b[0m\u001b[1;33m)\u001b[0m \u001b[1;33m*\u001b[0m \u001b[0mnp\u001b[0m\u001b[1;33m.\u001b[0m\u001b[0mlog\u001b[0m\u001b[1;33m(\u001b[0m\u001b[0mnp\u001b[0m\u001b[1;33m.\u001b[0m\u001b[0mrandom\u001b[0m\u001b[1;33m.\u001b[0m\u001b[0muniform\u001b[0m\u001b[1;33m(\u001b[0m\u001b[1;36m0\u001b[0m\u001b[1;33m,\u001b[0m \u001b[1;36m1\u001b[0m\u001b[1;33m)\u001b[0m\u001b[1;33m)\u001b[0m\u001b[1;33m\u001b[0m\u001b[1;33m\u001b[0m\u001b[0m\n\u001b[0m\u001b[0;32m     60\u001b[0m \u001b[1;33m\u001b[0m\u001b[0m\n\u001b[0;32m     61\u001b[0m         \u001b[0mdt_recovery\u001b[0m \u001b[1;33m=\u001b[0m  \u001b[0mFraction\u001b[0m\u001b[1;33m(\u001b[0m\u001b[1;33m-\u001b[0m\u001b[1;36m1\u001b[0m\u001b[1;33m,\u001b[0m \u001b[0mgamma\u001b[0m\u001b[1;33m*\u001b[0m\u001b[0mY\u001b[0m\u001b[1;33m)\u001b[0m \u001b[1;33m*\u001b[0m \u001b[0mnp\u001b[0m\u001b[1;33m.\u001b[0m\u001b[0mlog\u001b[0m\u001b[1;33m(\u001b[0m\u001b[0mnp\u001b[0m\u001b[1;33m.\u001b[0m\u001b[0mrandom\u001b[0m\u001b[1;33m.\u001b[0m\u001b[0muniform\u001b[0m\u001b[1;33m(\u001b[0m\u001b[1;36m0\u001b[0m\u001b[1;33m,\u001b[0m \u001b[1;36m1\u001b[0m\u001b[1;33m)\u001b[0m\u001b[1;33m)\u001b[0m\u001b[1;33m\u001b[0m\u001b[1;33m\u001b[0m\u001b[0m\n",
      "\u001b[1;32mC:\\ProgramData\\Anaconda3\\lib\\fractions.py\u001b[0m in \u001b[0;36m__new__\u001b[1;34m(cls, numerator, denominator, _normalize)\u001b[0m\n\u001b[0;32m    150\u001b[0m                 )\n\u001b[0;32m    151\u001b[0m         \u001b[1;32melse\u001b[0m\u001b[1;33m:\u001b[0m\u001b[1;33m\u001b[0m\u001b[1;33m\u001b[0m\u001b[0m\n\u001b[1;32m--> 152\u001b[1;33m             raise TypeError(\"both arguments should be \"\n\u001b[0m\u001b[0;32m    153\u001b[0m                             \"Rational instances\")\n\u001b[0;32m    154\u001b[0m \u001b[1;33m\u001b[0m\u001b[0m\n",
      "\u001b[1;31mTypeError\u001b[0m: both arguments should be Rational instances"
     ]
    }
   ],
   "source": [
    "# Initiate variables\n",
    "X_0 = 450 # Initial opulation size of X\n",
    "Y_0 = 50 # Initial population size of Y\n",
    "Z_0 = 0 # Initial population size of Z\n",
    "\n",
    "N = X_0 + Y_0 + Z_0 # Total population size\n",
    "\n",
    "# Returns false if total population siz does not equal sum of initial X, Y and Z \n",
    "assert X_0 + Y_0 + Z_0 == N\n",
    "\n",
    "beta = 0.5 # ... parameter\n",
    "gamma = 0.1 # ... parameter\n",
    "mu = 0.01 # ... parameter\n",
    "\n",
    "timespan = 100 # Add definition\n",
    "\n",
    "# Creates a list of the parameters\n",
    "parameters = [beta, gamma, mu]\n",
    "\n",
    "\n",
    "def infect(X, Y):\n",
    "    \"\"\"\" This function does ...\"\"\"\n",
    "    X += 1\n",
    "    Y += 1\n",
    "    \n",
    "    return (X, Y)\n",
    "\n",
    "def recover(Y, Z):\n",
    "    \"\"\"\" This function does ...\"\"\"\n",
    "    Y -= 1\n",
    "    Z += 1\n",
    "    \n",
    "    return(Y, Z)\n",
    "\n",
    "def birth(X):\n",
    "    \"\"\"\" This function does ...\"\"\"\n",
    "    X += 1\n",
    "    \n",
    "    return X\n",
    "    \n",
    "def death(X, Y, Z):\n",
    "    \"\"\"\" This function does ...\"\"\"\n",
    "    X += 1\n",
    "    Y += 1\n",
    "    Z += 1\n",
    "    \n",
    "    return(X, Y ,Z)\n",
    "    \n",
    "    \n",
    "def gsp(N, X, Y, Z, beta, gamma, mu, end):\n",
    "    \"\"\"\" This function does ...\"\"\"\n",
    "\n",
    "    t = 0\n",
    "\n",
    "    # This loop does...   \n",
    "    while t <= end:\n",
    "        \n",
    "        event_queue: {} # Defines dictionary ...\n",
    "    \n",
    "        \n",
    "        dt_infection = Fraction(-1, beta*X*Y/N) * np.log(np.random.uniform(0, 1))\n",
    "        dt_recovery =  Fraction(-1, gamma*Y) * np.log(np.random.uniform(0, 1))\n",
    "        dt_birth =  Fraction(-1, mu*N) * np.log(np.random.uniform(0, 1))\n",
    "        dt_death =  Fraction(-1, mu*X) * np.log(np.random.uniform(0, 1))\n",
    "        \n",
    "        event_queue['inf'] = dt_infection\n",
    "        event_queue['rec'] = dt_recovery\n",
    "        event_queue['birth'] = dt_birth\n",
    "        event_queue['death'] = dt_death\n",
    "        \n",
    "        sorted_queue = dict(sorted(event_queue.items(), key=lambda item: item[1]))\n",
    "        first_event_key, first_event_time = list(sorted_queue.items())[0]\n",
    "\n",
    "        t += first_event_time\n",
    "\n",
    "        # These if statements do ...    \n",
    "        if first_event_key == 'inf':\n",
    "            X, Y = infect(X, Y)\n",
    "                \n",
    "        elif first_event_key == 'rec':\n",
    "            Y, Z = recover(Y, Z)\n",
    "                \n",
    "        elif first_event_key == 'birth':\n",
    "            X = birth(X)\n",
    "                \n",
    "        else:\n",
    "            X, Y, Z = death(X, Y, Z)\n",
    "    \n",
    "    return X, Y , Z\n",
    "            \n",
    "# Calls function ... to ...       \n",
    "gsp(N, X_0, Y_0, Z_0, beta, gamma, mu, timespan)\n",
    "    \n",
    "    \n",
    "        \n",
    "        \n",
    "        \n",
    "        \n",
    "        \n"
   ]
  },
  {
   "cell_type": "code",
   "execution_count": 2,
   "id": "b663944a",
   "metadata": {},
   "outputs": [
    {
     "name": "stdout",
     "output_type": "stream",
     "text": [
      "4\n"
     ]
    }
   ],
   "source": []
  },
  {
   "cell_type": "code",
   "execution_count": null,
   "id": "f815682c",
   "metadata": {},
   "outputs": [],
   "source": []
  }
 ],
 "metadata": {
  "kernelspec": {
   "display_name": "Python 3 (ipykernel)",
   "language": "python",
   "name": "python3"
  },
  "language_info": {
   "codemirror_mode": {
    "name": "ipython",
    "version": 3
   },
   "file_extension": ".py",
   "mimetype": "text/x-python",
   "name": "python",
   "nbconvert_exporter": "python",
   "pygments_lexer": "ipython3",
   "version": "3.9.13"
  }
 },
 "nbformat": 4,
 "nbformat_minor": 5
}
